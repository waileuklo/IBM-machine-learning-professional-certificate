{
 "cells": [
  {
   "cell_type": "markdown",
   "id": "2bcfed19",
   "metadata": {},
   "source": [
    "## Brief description of the data set and a summary of its attributes\n",
    "\n",
    "The dataset contains the passenger information of the historical Titanic distaster, and it can be downloaded from https://www.kaggle.com/c/titanic/overview. The objective is to predict whether a passenger surivived the disaster based on various attributes given. Below is the attributes and their descriptions taken from Kaggle.\n",
    "\n",
    "| Variable | Description | Values |\n",
    "| -------- | ----------- | ------ |\n",
    "| Survival | Survival | 0 = No, 1 = Yes |\n",
    "| Pclass | Tickect class | 1 = 1st, 2 = 2nd, 3 = 3rd |\n",
    "| Sex | Sex | |\n",
    "| Age | Age in years| |\n",
    "| SibSp | # of siblings / spouses aboard the Titanic | |\n",
    "| Parch | # of parents / children aboard the Titanic | |\n",
    "| Ticket | Ticket number | |\n",
    "| Fare | Passenger fare | |\n",
    "| Cabin | Cabin number | |\n",
    "|Embarked | Port of Embarkation | C = Cherbourg, Q = Queenstown, S = Southampton |"
   ]
  },
  {
   "cell_type": "code",
   "execution_count": 1,
   "id": "9a88e41d",
   "metadata": {},
   "outputs": [],
   "source": [
    "import os\n",
    "\n",
    "os.chdir('./data')\n",
    "\n",
    "import pandas as pd\n",
    "import numpy as np\n",
    "import matplotlib.pyplot as plt\n",
    "import seaborn as sns\n",
    "from color_setup import colors, palette\n",
    "\n",
    "sns.set()\n",
    "\n",
    "%matplotlib inline"
   ]
  },
  {
   "cell_type": "code",
   "execution_count": 2,
   "id": "6c9c5572",
   "metadata": {},
   "outputs": [],
   "source": [
    "data = pd.read_csv('titanic_train.csv')"
   ]
  },
  {
   "cell_type": "code",
   "execution_count": 3,
   "id": "f62bd812",
   "metadata": {},
   "outputs": [
    {
     "data": {
      "text/html": [
       "<div>\n",
       "<style scoped>\n",
       "    .dataframe tbody tr th:only-of-type {\n",
       "        vertical-align: middle;\n",
       "    }\n",
       "\n",
       "    .dataframe tbody tr th {\n",
       "        vertical-align: top;\n",
       "    }\n",
       "\n",
       "    .dataframe thead th {\n",
       "        text-align: right;\n",
       "    }\n",
       "</style>\n",
       "<table border=\"1\" class=\"dataframe\">\n",
       "  <thead>\n",
       "    <tr style=\"text-align: right;\">\n",
       "      <th></th>\n",
       "      <th>PassengerId</th>\n",
       "      <th>Survived</th>\n",
       "      <th>Pclass</th>\n",
       "      <th>Name</th>\n",
       "      <th>Sex</th>\n",
       "      <th>Age</th>\n",
       "      <th>SibSp</th>\n",
       "      <th>Parch</th>\n",
       "      <th>Ticket</th>\n",
       "      <th>Fare</th>\n",
       "      <th>Cabin</th>\n",
       "      <th>Embarked</th>\n",
       "    </tr>\n",
       "  </thead>\n",
       "  <tbody>\n",
       "    <tr>\n",
       "      <th>0</th>\n",
       "      <td>1</td>\n",
       "      <td>0</td>\n",
       "      <td>3</td>\n",
       "      <td>Braund, Mr. Owen Harris</td>\n",
       "      <td>male</td>\n",
       "      <td>22.0</td>\n",
       "      <td>1</td>\n",
       "      <td>0</td>\n",
       "      <td>A/5 21171</td>\n",
       "      <td>7.2500</td>\n",
       "      <td>NaN</td>\n",
       "      <td>S</td>\n",
       "    </tr>\n",
       "    <tr>\n",
       "      <th>1</th>\n",
       "      <td>2</td>\n",
       "      <td>1</td>\n",
       "      <td>1</td>\n",
       "      <td>Cumings, Mrs. John Bradley (Florence Briggs Th...</td>\n",
       "      <td>female</td>\n",
       "      <td>38.0</td>\n",
       "      <td>1</td>\n",
       "      <td>0</td>\n",
       "      <td>PC 17599</td>\n",
       "      <td>71.2833</td>\n",
       "      <td>C85</td>\n",
       "      <td>C</td>\n",
       "    </tr>\n",
       "    <tr>\n",
       "      <th>2</th>\n",
       "      <td>3</td>\n",
       "      <td>1</td>\n",
       "      <td>3</td>\n",
       "      <td>Heikkinen, Miss. Laina</td>\n",
       "      <td>female</td>\n",
       "      <td>26.0</td>\n",
       "      <td>0</td>\n",
       "      <td>0</td>\n",
       "      <td>STON/O2. 3101282</td>\n",
       "      <td>7.9250</td>\n",
       "      <td>NaN</td>\n",
       "      <td>S</td>\n",
       "    </tr>\n",
       "    <tr>\n",
       "      <th>3</th>\n",
       "      <td>4</td>\n",
       "      <td>1</td>\n",
       "      <td>1</td>\n",
       "      <td>Futrelle, Mrs. Jacques Heath (Lily May Peel)</td>\n",
       "      <td>female</td>\n",
       "      <td>35.0</td>\n",
       "      <td>1</td>\n",
       "      <td>0</td>\n",
       "      <td>113803</td>\n",
       "      <td>53.1000</td>\n",
       "      <td>C123</td>\n",
       "      <td>S</td>\n",
       "    </tr>\n",
       "    <tr>\n",
       "      <th>4</th>\n",
       "      <td>5</td>\n",
       "      <td>0</td>\n",
       "      <td>3</td>\n",
       "      <td>Allen, Mr. William Henry</td>\n",
       "      <td>male</td>\n",
       "      <td>35.0</td>\n",
       "      <td>0</td>\n",
       "      <td>0</td>\n",
       "      <td>373450</td>\n",
       "      <td>8.0500</td>\n",
       "      <td>NaN</td>\n",
       "      <td>S</td>\n",
       "    </tr>\n",
       "  </tbody>\n",
       "</table>\n",
       "</div>"
      ],
      "text/plain": [
       "   PassengerId  Survived  Pclass  \\\n",
       "0            1         0       3   \n",
       "1            2         1       1   \n",
       "2            3         1       3   \n",
       "3            4         1       1   \n",
       "4            5         0       3   \n",
       "\n",
       "                                                Name     Sex   Age  SibSp  \\\n",
       "0                            Braund, Mr. Owen Harris    male  22.0      1   \n",
       "1  Cumings, Mrs. John Bradley (Florence Briggs Th...  female  38.0      1   \n",
       "2                             Heikkinen, Miss. Laina  female  26.0      0   \n",
       "3       Futrelle, Mrs. Jacques Heath (Lily May Peel)  female  35.0      1   \n",
       "4                           Allen, Mr. William Henry    male  35.0      0   \n",
       "\n",
       "   Parch            Ticket     Fare Cabin Embarked  \n",
       "0      0         A/5 21171   7.2500   NaN        S  \n",
       "1      0          PC 17599  71.2833   C85        C  \n",
       "2      0  STON/O2. 3101282   7.9250   NaN        S  \n",
       "3      0            113803  53.1000  C123        S  \n",
       "4      0            373450   8.0500   NaN        S  "
      ]
     },
     "execution_count": 3,
     "metadata": {},
     "output_type": "execute_result"
    }
   ],
   "source": [
    "data.head()"
   ]
  },
  {
   "cell_type": "code",
   "execution_count": 4,
   "id": "4e6a4c50",
   "metadata": {},
   "outputs": [
    {
     "name": "stdout",
     "output_type": "stream",
     "text": [
      "<class 'pandas.core.frame.DataFrame'>\n",
      "RangeIndex: 891 entries, 0 to 890\n",
      "Data columns (total 12 columns):\n",
      " #   Column       Non-Null Count  Dtype  \n",
      "---  ------       --------------  -----  \n",
      " 0   PassengerId  891 non-null    int64  \n",
      " 1   Survived     891 non-null    int64  \n",
      " 2   Pclass       891 non-null    int64  \n",
      " 3   Name         891 non-null    object \n",
      " 4   Sex          891 non-null    object \n",
      " 5   Age          714 non-null    float64\n",
      " 6   SibSp        891 non-null    int64  \n",
      " 7   Parch        891 non-null    int64  \n",
      " 8   Ticket       891 non-null    object \n",
      " 9   Fare         891 non-null    float64\n",
      " 10  Cabin        204 non-null    object \n",
      " 11  Embarked     889 non-null    object \n",
      "dtypes: float64(2), int64(5), object(5)\n",
      "memory usage: 83.7+ KB\n"
     ]
    }
   ],
   "source": [
    "data.info()"
   ]
  },
  {
   "cell_type": "code",
   "execution_count": 5,
   "id": "dabc1a52",
   "metadata": {},
   "outputs": [
    {
     "data": {
      "text/plain": [
       "PassengerId      0\n",
       "Survived         0\n",
       "Pclass           0\n",
       "Name             0\n",
       "Sex              0\n",
       "SibSp            0\n",
       "Parch            0\n",
       "Ticket           0\n",
       "Fare             0\n",
       "Embarked         2\n",
       "Age            177\n",
       "Cabin          687\n",
       "dtype: int64"
      ]
     },
     "execution_count": 5,
     "metadata": {},
     "output_type": "execute_result"
    }
   ],
   "source": [
    "data.isnull().sum().sort_values()"
   ]
  },
  {
   "cell_type": "code",
   "execution_count": 6,
   "id": "37134260",
   "metadata": {},
   "outputs": [],
   "source": [
    "data_copy = data.drop(['PassengerId', 'Name', 'Ticket', 'Cabin'], axis=1)"
   ]
  },
  {
   "cell_type": "code",
   "execution_count": 7,
   "id": "71fcf654",
   "metadata": {},
   "outputs": [
    {
     "data": {
      "text/html": [
       "<div>\n",
       "<style scoped>\n",
       "    .dataframe tbody tr th:only-of-type {\n",
       "        vertical-align: middle;\n",
       "    }\n",
       "\n",
       "    .dataframe tbody tr th {\n",
       "        vertical-align: top;\n",
       "    }\n",
       "\n",
       "    .dataframe thead th {\n",
       "        text-align: right;\n",
       "    }\n",
       "</style>\n",
       "<table border=\"1\" class=\"dataframe\">\n",
       "  <thead>\n",
       "    <tr style=\"text-align: right;\">\n",
       "      <th></th>\n",
       "      <th>Survived</th>\n",
       "      <th>Pclass</th>\n",
       "      <th>Sex</th>\n",
       "      <th>Age</th>\n",
       "      <th>SibSp</th>\n",
       "      <th>Parch</th>\n",
       "      <th>Fare</th>\n",
       "      <th>Embarked</th>\n",
       "    </tr>\n",
       "  </thead>\n",
       "  <tbody>\n",
       "    <tr>\n",
       "      <th>0</th>\n",
       "      <td>0</td>\n",
       "      <td>3</td>\n",
       "      <td>male</td>\n",
       "      <td>22.0</td>\n",
       "      <td>1</td>\n",
       "      <td>0</td>\n",
       "      <td>7.2500</td>\n",
       "      <td>S</td>\n",
       "    </tr>\n",
       "    <tr>\n",
       "      <th>1</th>\n",
       "      <td>1</td>\n",
       "      <td>1</td>\n",
       "      <td>female</td>\n",
       "      <td>38.0</td>\n",
       "      <td>1</td>\n",
       "      <td>0</td>\n",
       "      <td>71.2833</td>\n",
       "      <td>C</td>\n",
       "    </tr>\n",
       "    <tr>\n",
       "      <th>2</th>\n",
       "      <td>1</td>\n",
       "      <td>3</td>\n",
       "      <td>female</td>\n",
       "      <td>26.0</td>\n",
       "      <td>0</td>\n",
       "      <td>0</td>\n",
       "      <td>7.9250</td>\n",
       "      <td>S</td>\n",
       "    </tr>\n",
       "    <tr>\n",
       "      <th>3</th>\n",
       "      <td>1</td>\n",
       "      <td>1</td>\n",
       "      <td>female</td>\n",
       "      <td>35.0</td>\n",
       "      <td>1</td>\n",
       "      <td>0</td>\n",
       "      <td>53.1000</td>\n",
       "      <td>S</td>\n",
       "    </tr>\n",
       "    <tr>\n",
       "      <th>4</th>\n",
       "      <td>0</td>\n",
       "      <td>3</td>\n",
       "      <td>male</td>\n",
       "      <td>35.0</td>\n",
       "      <td>0</td>\n",
       "      <td>0</td>\n",
       "      <td>8.0500</td>\n",
       "      <td>S</td>\n",
       "    </tr>\n",
       "    <tr>\n",
       "      <th>...</th>\n",
       "      <td>...</td>\n",
       "      <td>...</td>\n",
       "      <td>...</td>\n",
       "      <td>...</td>\n",
       "      <td>...</td>\n",
       "      <td>...</td>\n",
       "      <td>...</td>\n",
       "      <td>...</td>\n",
       "    </tr>\n",
       "    <tr>\n",
       "      <th>886</th>\n",
       "      <td>0</td>\n",
       "      <td>2</td>\n",
       "      <td>male</td>\n",
       "      <td>27.0</td>\n",
       "      <td>0</td>\n",
       "      <td>0</td>\n",
       "      <td>13.0000</td>\n",
       "      <td>S</td>\n",
       "    </tr>\n",
       "    <tr>\n",
       "      <th>887</th>\n",
       "      <td>1</td>\n",
       "      <td>1</td>\n",
       "      <td>female</td>\n",
       "      <td>19.0</td>\n",
       "      <td>0</td>\n",
       "      <td>0</td>\n",
       "      <td>30.0000</td>\n",
       "      <td>S</td>\n",
       "    </tr>\n",
       "    <tr>\n",
       "      <th>888</th>\n",
       "      <td>0</td>\n",
       "      <td>3</td>\n",
       "      <td>female</td>\n",
       "      <td>NaN</td>\n",
       "      <td>1</td>\n",
       "      <td>2</td>\n",
       "      <td>23.4500</td>\n",
       "      <td>S</td>\n",
       "    </tr>\n",
       "    <tr>\n",
       "      <th>889</th>\n",
       "      <td>1</td>\n",
       "      <td>1</td>\n",
       "      <td>male</td>\n",
       "      <td>26.0</td>\n",
       "      <td>0</td>\n",
       "      <td>0</td>\n",
       "      <td>30.0000</td>\n",
       "      <td>C</td>\n",
       "    </tr>\n",
       "    <tr>\n",
       "      <th>890</th>\n",
       "      <td>0</td>\n",
       "      <td>3</td>\n",
       "      <td>male</td>\n",
       "      <td>32.0</td>\n",
       "      <td>0</td>\n",
       "      <td>0</td>\n",
       "      <td>7.7500</td>\n",
       "      <td>Q</td>\n",
       "    </tr>\n",
       "  </tbody>\n",
       "</table>\n",
       "<p>891 rows × 8 columns</p>\n",
       "</div>"
      ],
      "text/plain": [
       "     Survived  Pclass     Sex   Age  SibSp  Parch     Fare Embarked\n",
       "0           0       3    male  22.0      1      0   7.2500        S\n",
       "1           1       1  female  38.0      1      0  71.2833        C\n",
       "2           1       3  female  26.0      0      0   7.9250        S\n",
       "3           1       1  female  35.0      1      0  53.1000        S\n",
       "4           0       3    male  35.0      0      0   8.0500        S\n",
       "..        ...     ...     ...   ...    ...    ...      ...      ...\n",
       "886         0       2    male  27.0      0      0  13.0000        S\n",
       "887         1       1  female  19.0      0      0  30.0000        S\n",
       "888         0       3  female   NaN      1      2  23.4500        S\n",
       "889         1       1    male  26.0      0      0  30.0000        C\n",
       "890         0       3    male  32.0      0      0   7.7500        Q\n",
       "\n",
       "[891 rows x 8 columns]"
      ]
     },
     "execution_count": 7,
     "metadata": {},
     "output_type": "execute_result"
    }
   ],
   "source": [
    "data_copy"
   ]
  },
  {
   "cell_type": "code",
   "execution_count": 8,
   "id": "b9b3538d",
   "metadata": {},
   "outputs": [
    {
     "data": {
      "text/plain": [
       "0    0.616162\n",
       "1    0.383838\n",
       "Name: Survived, dtype: float64"
      ]
     },
     "execution_count": 8,
     "metadata": {},
     "output_type": "execute_result"
    }
   ],
   "source": [
    "data_copy.Survived.value_counts(normalize=True)"
   ]
  },
  {
   "cell_type": "markdown",
   "id": "ad77e14c",
   "metadata": {},
   "source": [
    "The data is imbalanced, so we need to up-sampling or down-sampling it to have a balanced dataset.\n",
    "\n",
    "## Main objective\n",
    "\n",
    "The main objective of this analysis is to focus on the interpretibility of the model we train.\n",
    "More precisely, we would like to know at the end of our analysis what factors contribute most importantly to the survival of a pessenger on Titanic.\n",
    "\n",
    "## Data cleaning and feature engineering\n",
    "\n",
    "### Log transform skew variables"
   ]
  },
  {
   "cell_type": "code",
   "execution_count": 9,
   "id": "f27cd9ad",
   "metadata": {},
   "outputs": [
    {
     "data": {
      "image/png": "[encoded data removed]",
      "text/plain": [
       "<Figure size 720x360 with 2 Axes>"
      ]
     },
     "metadata": {
      "needs_background": "light"
     },
     "output_type": "display_data"
    }
   ],
   "source": [
    "fig, axList = plt.subplots(1, 2, figsize=(10, 5))\n",
    "\n",
    "axList = axList.flatten()\n",
    "\n",
    "num_cols = ['Age', 'Fare']\n",
    "\n",
    "for i, ax in enumerate(axList):\n",
    "    \n",
    "    column = num_cols[i]\n",
    "    ax.hist(data_copy[column])\n",
    "    ax.set(title=column)\n",
    "    \n",
    "plt.tight_layout()"
   ]
  },
  {
   "cell_type": "code",
   "execution_count": 10,
   "id": "81d6a40e",
   "metadata": {},
   "outputs": [
    {
     "data": {
      "text/html": [
       "<div>\n",
       "<style scoped>\n",
       "    .dataframe tbody tr th:only-of-type {\n",
       "        vertical-align: middle;\n",
       "    }\n",
       "\n",
       "    .dataframe tbody tr th {\n",
       "        vertical-align: top;\n",
       "    }\n",
       "\n",
       "    .dataframe thead th {\n",
       "        text-align: right;\n",
       "    }\n",
       "</style>\n",
       "<table border=\"1\" class=\"dataframe\">\n",
       "  <thead>\n",
       "    <tr style=\"text-align: right;\">\n",
       "      <th></th>\n",
       "      <th>Skew</th>\n",
       "    </tr>\n",
       "  </thead>\n",
       "  <tbody>\n",
       "    <tr>\n",
       "      <th>Fare</th>\n",
       "      <td>4.787317</td>\n",
       "    </tr>\n",
       "  </tbody>\n",
       "</table>\n",
       "</div>"
      ],
      "text/plain": [
       "          Skew\n",
       "Fare  4.787317"
      ]
     },
     "execution_count": 10,
     "metadata": {},
     "output_type": "execute_result"
    }
   ],
   "source": [
    "skew_limit = 0.75\n",
    "skew_vals = data_copy[['Age', 'Fare']].skew()\n",
    "\n",
    "skew_cols = (skew_vals\n",
    "             .sort_values(ascending=False)\n",
    "             .to_frame()\n",
    "             .rename(columns={0: 'Skew'})\n",
    "             .query('abs(Skew) > {}'.format(skew_limit))\n",
    "            )\n",
    "skew_cols"
   ]
  },
  {
   "cell_type": "code",
   "execution_count": 11,
   "id": "b0380f36",
   "metadata": {},
   "outputs": [
    {
     "name": "stdout",
     "output_type": "stream",
     "text": [
      "The skews of Fare before and after the log transformation are  4.79 and  0.39 respectively.\n"
     ]
    },
    {
     "data": {
      "image/png": "[encoded data removed]",
      "text/plain": [
       "<Figure size 720x360 with 2 Axes>"
      ]
     },
     "metadata": {
      "needs_background": "light"
     },
     "output_type": "display_data"
    }
   ],
   "source": [
    "field = 'Fare'\n",
    "\n",
    "fig, (ax_before, ax_after) = plt.subplots(1, 2, figsize=(10, 5))\n",
    "\n",
    "data_copy[field].hist(ax=ax_before)\n",
    "\n",
    "data_copy[field].apply(np.log1p).hist(ax=ax_after)\n",
    "\n",
    "ax_before.set(title='before np.log1p', xlabel='value', ylabel='frequency')\n",
    "ax_after.set(title='after np.log1p', xlabel='value', ylabel='frequency')\n",
    "fig.suptitle('Field \"{}\"'.format(field))\n",
    "print('The skews of {field} before and after the log transformation are {before: .2f} and {after: .2f} respectively.'\n",
    "     .format(field=field, before=data_copy[field].skew(), after=data_copy[field].apply(np.log1p).skew()))"
   ]
  },
  {
   "cell_type": "code",
   "execution_count": 12,
   "id": "2f53451a",
   "metadata": {},
   "outputs": [],
   "source": [
    "for col in skew_cols.index.values:\n",
    "    \n",
    "    data_copy[col] = data_copy[col].apply(np.log1p)"
   ]
  },
  {
   "cell_type": "markdown",
   "id": "79fde23e",
   "metadata": {},
   "source": [
    "### Group certain categories in SibSp together for better representation"
   ]
  },
  {
   "cell_type": "markdown",
   "id": "79ebba1b",
   "metadata": {},
   "source": [
    "We set Pclass, SibSp and Parch to be categorical features."
   ]
  },
  {
   "cell_type": "code",
   "execution_count": 13,
   "id": "2fa0536a",
   "metadata": {},
   "outputs": [],
   "source": [
    "data_copy = data_copy.astype({'Pclass': object, 'SibSp': object, 'Parch': object})"
   ]
  },
  {
   "cell_type": "code",
   "execution_count": 14,
   "id": "e2140c33",
   "metadata": {},
   "outputs": [],
   "source": [
    "# Count SibSp percentage\n",
    "sibsp_counts = data_copy['SibSp'].value_counts(normalize=True)\n",
    "\n",
    "# Select less-represented large SibSp categories\n",
    "large_sibsp = list(sibsp_counts[sibsp_counts < 0.2].index)\n",
    "\n",
    "# Group those categories together\n",
    "data_copy['SibSp'] = data_copy['SibSp'].replace(large_sibsp, 2)"
   ]
  },
  {
   "cell_type": "code",
   "execution_count": 15,
   "id": "0d052dcb",
   "metadata": {},
   "outputs": [],
   "source": [
    "# Count Parch percentage\n",
    "parch_counts = data_copy['Parch'].value_counts(normalize=True)\n",
    "\n",
    "# Select less-represented large Parch categories\n",
    "large_parch = list(parch_counts[parch_counts < 0.1].index)\n",
    "\n",
    "# Group those categories together\n",
    "data_copy['Parch'] = data_copy['Parch'].replace(large_parch, 2)"
   ]
  },
  {
   "cell_type": "markdown",
   "id": "8afcac19",
   "metadata": {},
   "source": [
    "## Training four classifier models"
   ]
  },
  {
   "cell_type": "code",
   "execution_count": 16,
   "id": "e7b356a0",
   "metadata": {},
   "outputs": [],
   "source": [
    "from sklearn.preprocessing import OneHotEncoder, StandardScaler\n",
    "from sklearn.impute import SimpleImputer\n",
    "from sklearn.compose import ColumnTransformer\n",
    "from sklearn.model_selection import GridSearchCV\n",
    "\n",
    "from imblearn.over_sampling import SMOTENC\n",
    "from imblearn.pipeline import Pipeline"
   ]
  },
  {
   "cell_type": "markdown",
   "id": "f4db6b12",
   "metadata": {},
   "source": [
    "### Logistic regression"
   ]
  },
  {
   "cell_type": "code",
   "execution_count": 20,
   "id": "92a742b6",
   "metadata": {},
   "outputs": [
    {
     "data": {
      "text/plain": [
       "(0.8495202186107065, {'lr__C': 2.782559402207126})"
      ]
     },
     "execution_count": 20,
     "metadata": {},
     "output_type": "execute_result"
    }
   ],
   "source": [
    "from sklearn.linear_model import LogisticRegression, LogisticRegressionCV\n",
    "\n",
    "X = data_copy.drop('Survived', axis=1)\n",
    "y = data_copy['Survived']\n",
    "\n",
    "num_cols = [2, 5]\n",
    "cat_cols = [0, 1, 3, 4, 6]\n",
    "\n",
    "imputer = SimpleImputer(strategy='most_frequent')\n",
    "scaler = StandardScaler()\n",
    "ohc = OneHotEncoder(drop='first')\n",
    "smt = SMOTENC(random_state=42, categorical_features=cat_cols)\n",
    "# lr = LogisticRegressionCV(Cs=10, cv=5, penalty='l1', solver='liblinear', scoring='roc_auc', n_jobs=-1)\n",
    "lr = LogisticRegression(penalty='l1', solver='liblinear')\n",
    "\n",
    "preprocessor = ColumnTransformer(\n",
    "    transformers=[\n",
    "    ('scaler', scaler, num_cols),\n",
    "    ('ohc', ohc, cat_cols)\n",
    "    ],\n",
    "    remainder='passthrough'\n",
    ")\n",
    "\n",
    "pipeline = Pipeline(steps=[\n",
    "    ('imputer', imputer),\n",
    "    ('preprocessor', preprocessor),\n",
    "    ('smt', smt),\n",
    "    ('lr', lr)\n",
    "])\n",
    "\n",
    "# pipeline.fit(X, y)\n",
    "\n",
    "# scores = pipeline.named_steps['lr'].scores_[1]\n",
    "# Cs = pipeline.named_steps['lr'].Cs_\n",
    "\n",
    "# cv_scores = pd.DataFrame(scores, index=[1, 2, 3, 4, 5], columns=Cs)\n",
    "\n",
    "# cv_scores.mean()\n",
    "\n",
    "params = {'lr__C': np.geomspace(1e-4, 1e4, 10)}\n",
    "\n",
    "grid = GridSearchCV(pipeline, param_grid=params, scoring='roc_auc', n_jobs=-1, cv=5)\n",
    "\n",
    "grid.fit(X, y)\n",
    "\n",
    "grid.best_score_, grid.best_params_"
   ]
  },
  {
   "cell_type": "code",
   "execution_count": 18,
   "id": "67549a8b",
   "metadata": {},
   "outputs": [
    {
     "data": {
      "text/html": [
       "<div>\n",
       "<style scoped>\n",
       "    .dataframe tbody tr th:only-of-type {\n",
       "        vertical-align: middle;\n",
       "    }\n",
       "\n",
       "    .dataframe tbody tr th {\n",
       "        vertical-align: top;\n",
       "    }\n",
       "\n",
       "    .dataframe thead th {\n",
       "        text-align: right;\n",
       "    }\n",
       "</style>\n",
       "<table border=\"1\" class=\"dataframe\">\n",
       "  <thead>\n",
       "    <tr style=\"text-align: right;\">\n",
       "      <th></th>\n",
       "      <th>Importance</th>\n",
       "    </tr>\n",
       "  </thead>\n",
       "  <tbody>\n",
       "    <tr>\n",
       "      <th>Sex_male</th>\n",
       "      <td>-2.600682</td>\n",
       "    </tr>\n",
       "    <tr>\n",
       "      <th>Pclass_3</th>\n",
       "      <td>-1.806283</td>\n",
       "    </tr>\n",
       "    <tr>\n",
       "      <th>SibSp_2</th>\n",
       "      <td>-1.742807</td>\n",
       "    </tr>\n",
       "    <tr>\n",
       "      <th>Pclass_2</th>\n",
       "      <td>-0.896320</td>\n",
       "    </tr>\n",
       "    <tr>\n",
       "      <th>Age</th>\n",
       "      <td>-0.497760</td>\n",
       "    </tr>\n",
       "    <tr>\n",
       "      <th>Parch_2</th>\n",
       "      <td>-0.270210</td>\n",
       "    </tr>\n",
       "    <tr>\n",
       "      <th>Embarked_S</th>\n",
       "      <td>-0.162539</td>\n",
       "    </tr>\n",
       "    <tr>\n",
       "      <th>Embarked_Q</th>\n",
       "      <td>-0.026919</td>\n",
       "    </tr>\n",
       "    <tr>\n",
       "      <th>SibSp_1</th>\n",
       "      <td>0.047055</td>\n",
       "    </tr>\n",
       "    <tr>\n",
       "      <th>Fare</th>\n",
       "      <td>0.308692</td>\n",
       "    </tr>\n",
       "    <tr>\n",
       "      <th>Parch_1</th>\n",
       "      <td>0.364371</td>\n",
       "    </tr>\n",
       "  </tbody>\n",
       "</table>\n",
       "</div>"
      ],
      "text/plain": [
       "            Importance\n",
       "Sex_male     -2.600682\n",
       "Pclass_3     -1.806283\n",
       "SibSp_2      -1.742807\n",
       "Pclass_2     -0.896320\n",
       "Age          -0.497760\n",
       "Parch_2      -0.270210\n",
       "Embarked_S   -0.162539\n",
       "Embarked_Q   -0.026919\n",
       "SibSp_1       0.047055\n",
       "Fare          0.308692\n",
       "Parch_1       0.364371"
      ]
     },
     "execution_count": 18,
     "metadata": {},
     "output_type": "execute_result"
    }
   ],
   "source": [
    "num_cols = ['Age', 'Fare']\n",
    "cat_cols = X.columns.drop(num_cols)\n",
    "\n",
    "cat_cols = (grid\n",
    "            .best_estimator_\n",
    "            .named_steps['preprocessor']\n",
    "            .named_transformers_['ohc']\n",
    "            .get_feature_names(cat_cols)\n",
    "            .tolist()\n",
    "           )\n",
    "\n",
    "coefficients = grid.best_estimator_.named_steps['lr'].coef_\n",
    "index = num_cols + cat_cols\n",
    "\n",
    "feature_importances = pd.DataFrame(coefficients.T, index=index, columns=['Importance']).sort_values(by='Importance')\n",
    "feature_importances"
   ]
  },
  {
   "cell_type": "markdown",
   "id": "6b61d481",
   "metadata": {},
   "source": [
    "### Support vector machine"
   ]
  },
  {
   "cell_type": "code",
   "execution_count": 19,
   "id": "91dcb80e",
   "metadata": {},
   "outputs": [
    {
     "data": {
      "text/plain": [
       "(0.8606592201372697,\n",
       " {'svc__C': 10.538461538461538, 'svc__gamma': 0.15789473684210525})"
      ]
     },
     "execution_count": 19,
     "metadata": {},
     "output_type": "execute_result"
    }
   ],
   "source": [
    "from sklearn.svm import SVC\n",
    "\n",
    "X = data_copy.drop('Survived', axis=1)\n",
    "y = data_copy['Survived']\n",
    "\n",
    "num_cols = [2, 5]\n",
    "cat_cols = [0, 1, 3, 4, 6]\n",
    "\n",
    "imputer = SimpleImputer(strategy='most_frequent')\n",
    "scaler = StandardScaler()\n",
    "ohc = OneHotEncoder(drop='first')\n",
    "smt = SMOTENC(random_state=42, categorical_features=cat_cols)\n",
    "svc = SVC()\n",
    "\n",
    "preprocessor = ColumnTransformer(\n",
    "    transformers=[\n",
    "    ('scaler', scaler, num_cols),\n",
    "    ('ohc', ohc, cat_cols)\n",
    "    ],\n",
    "    remainder='passthrough'\n",
    ")\n",
    "\n",
    "pipeline = Pipeline(steps=[\n",
    "    ('imputer', imputer),\n",
    "    ('preprocessor', preprocessor),\n",
    "    ('smt', smt),\n",
    "    ('svc', svc)\n",
    "])\n",
    "\n",
    "params = {'svc__gamma': np.linspace(0.1, 0.2, 20),\n",
    "          'svc__C': np.linspace(5, 11, 40)\n",
    "         }\n",
    "\n",
    "grid = GridSearchCV(pipeline, param_grid=params, scoring='roc_auc', n_jobs=-1)\n",
    "\n",
    "grid.fit(X, y)\n",
    "\n",
    "grid.best_score_, grid.best_params_"
   ]
  },
  {
   "cell_type": "markdown",
   "id": "3d0d36b5",
   "metadata": {},
   "source": [
    "### Random forest"
   ]
  },
  {
   "cell_type": "code",
   "execution_count": 20,
   "id": "51cdff69",
   "metadata": {},
   "outputs": [
    {
     "data": {
      "text/plain": [
       "(0.8576158769705075, {'rf__n_estimators': 150})"
      ]
     },
     "execution_count": 20,
     "metadata": {},
     "output_type": "execute_result"
    }
   ],
   "source": [
    "# Suppress warnings about too few trees from the early models\n",
    "import warnings\n",
    "warnings.filterwarnings('ignore', category=UserWarning)\n",
    "warnings.filterwarnings('ignore', category=RuntimeWarning)\n",
    "\n",
    "from sklearn.ensemble import RandomForestClassifier\n",
    "\n",
    "X = data_copy.drop('Survived', axis=1)\n",
    "y = data_copy['Survived']\n",
    "\n",
    "num_cols = [2, 5]\n",
    "cat_cols = [0, 1, 3, 4, 6]\n",
    "\n",
    "imputer = SimpleImputer(strategy='most_frequent')\n",
    "scaler = StandardScaler()\n",
    "ohc = OneHotEncoder(drop='first')\n",
    "smt = SMOTENC(random_state=42, categorical_features=cat_cols)\n",
    "rf = RandomForestClassifier(random_state=42, n_jobs=-1)\n",
    "\n",
    "preprocessor = ColumnTransformer(\n",
    "    transformers=[\n",
    "    ('scaler', scaler, num_cols),\n",
    "    ('ohc', ohc, cat_cols)\n",
    "    ],\n",
    "    remainder='passthrough'\n",
    ")\n",
    "\n",
    "pipeline = Pipeline(steps=[\n",
    "    ('imputer', imputer),\n",
    "    ('preprocessor', preprocessor),\n",
    "#     ('smt', smt),\n",
    "    ('rf', rf)\n",
    "])\n",
    "\n",
    "params = {'rf__n_estimators': [100, 125, 150, 175, 190]\n",
    "         }\n",
    "\n",
    "grid = GridSearchCV(pipeline, param_grid=params, scoring='roc_auc', n_jobs=-1)\n",
    "\n",
    "grid.fit(X, y)\n",
    "\n",
    "grid.best_score_, grid.best_params_"
   ]
  },
  {
   "cell_type": "code",
   "execution_count": 21,
   "id": "a023f986",
   "metadata": {},
   "outputs": [
    {
     "data": {
      "image/png": "[encoded data removed]",
      "text/plain": [
       "<Figure size 720x432 with 1 Axes>"
      ]
     },
     "metadata": {
      "needs_background": "light"
     },
     "output_type": "display_data"
    }
   ],
   "source": [
    "num_cols = ['Age', 'Fare']\n",
    "cat_cols = X.columns.drop(num_cols)\n",
    "\n",
    "cat_cols = (grid\n",
    "            .best_estimator_\n",
    "            .named_steps['preprocessor']\n",
    "            .named_transformers_['ohc']\n",
    "            .get_feature_names(cat_cols)\n",
    "            .tolist()\n",
    "           )\n",
    "\n",
    "coefficients = grid.best_estimator_.named_steps['rf'].feature_importances_\n",
    "index = num_cols + cat_cols\n",
    "\n",
    "feature_importances = pd.Series(coefficients, index=index).sort_values(ascending=False)\n",
    "\n",
    "ax = feature_importances.plot(kind='bar', figsize=(10, 6))\n",
    "ax.set(ylabel='Relative Importance', xlabel='Feature');"
   ]
  },
  {
   "cell_type": "markdown",
   "id": "15418479",
   "metadata": {},
   "source": [
    "### Gradient Boosting"
   ]
  },
  {
   "cell_type": "code",
   "execution_count": 22,
   "id": "8045c99e",
   "metadata": {},
   "outputs": [
    {
     "data": {
      "text/plain": [
       "(0.872186515901643,\n",
       " {'gbc__learning_rate': 0.1,\n",
       "  'gbc__max_features': 4,\n",
       "  'gbc__n_estimators': 250,\n",
       "  'gbc__subsample': 0.5})"
      ]
     },
     "execution_count": 22,
     "metadata": {},
     "output_type": "execute_result"
    }
   ],
   "source": [
    "from sklearn.ensemble import GradientBoostingClassifier\n",
    "\n",
    "X = data_copy.drop('Survived', axis=1)\n",
    "y = data_copy['Survived']\n",
    "\n",
    "num_cols = [2, 5]\n",
    "cat_cols = [0, 1, 3, 4, 6]\n",
    "\n",
    "imputer = SimpleImputer(strategy='most_frequent')\n",
    "scaler = StandardScaler()\n",
    "ohc = OneHotEncoder(drop='first')\n",
    "smt = SMOTENC(random_state=42, categorical_features=cat_cols)\n",
    "gbc = GradientBoostingClassifier(random_state=42)\n",
    "\n",
    "preprocessor = ColumnTransformer(\n",
    "    transformers=[\n",
    "    ('scaler', scaler, num_cols),\n",
    "    ('ohc', ohc, cat_cols)\n",
    "    ],\n",
    "    remainder='passthrough'\n",
    ")\n",
    "\n",
    "pipeline = Pipeline(steps=[\n",
    "    ('imputer', imputer),\n",
    "    ('preprocessor', preprocessor),\n",
    "    ('smt', smt),\n",
    "    ('gbc', gbc)\n",
    "])\n",
    "\n",
    "params = {'gbc__n_estimators': [225, 250, 275],\n",
    "          'gbc__learning_rate': [0.05, 0.1, 0.15],\n",
    "          'gbc__subsample': [0.25, 0.5, 0.75],\n",
    "          'gbc__max_features': [3, 4, 5]\n",
    "         }\n",
    "\n",
    "grid = GridSearchCV(pipeline, param_grid=params, scoring='roc_auc', n_jobs=-1)\n",
    "\n",
    "grid.fit(X, y)\n",
    "\n",
    "grid.best_score_, grid.best_params_"
   ]
  },
  {
   "cell_type": "code",
   "execution_count": 23,
   "id": "c676c392",
   "metadata": {},
   "outputs": [],
   "source": [
    "# It's a good practice to store the trained model into pickle for later uses\n",
    "import pickle\n",
    "\n",
    "pickle.dump(grid, open('gv_gbc.p', 'wb'))"
   ]
  },
  {
   "cell_type": "code",
   "execution_count": 24,
   "id": "454bc345",
   "metadata": {},
   "outputs": [
    {
     "data": {
      "text/plain": [
       "Pipeline(steps=[('imputer', SimpleImputer(strategy='most_frequent')),\n",
       "                ('preprocessor',\n",
       "                 ColumnTransformer(remainder='passthrough',\n",
       "                                   transformers=[('scaler', StandardScaler(),\n",
       "                                                  [2, 5]),\n",
       "                                                 ('ohc',\n",
       "                                                  OneHotEncoder(drop='first'),\n",
       "                                                  [0, 1, 3, 4, 6])])),\n",
       "                ('smt',\n",
       "                 SMOTENC(categorical_features=[0, 1, 3, 4, 6],\n",
       "                         random_state=42)),\n",
       "                ('gbc',\n",
       "                 GradientBoostingClassifier(max_features=4, n_estimators=250,\n",
       "                                            random_state=42, subsample=0.5))])"
      ]
     },
     "execution_count": 24,
     "metadata": {},
     "output_type": "execute_result"
    }
   ],
   "source": [
    "GV_GBC = pickle.load(open('gv_gbc.p', 'rb'))\n",
    "\n",
    "GV_GBC.best_estimator_"
   ]
  },
  {
   "cell_type": "code",
   "execution_count": 25,
   "id": "639b2fc7",
   "metadata": {},
   "outputs": [
    {
     "data": {
      "image/png": "[encoded data removed]",
      "text/plain": [
       "<Figure size 720x432 with 1 Axes>"
      ]
     },
     "metadata": {
      "needs_background": "light"
     },
     "output_type": "display_data"
    }
   ],
   "source": [
    "num_cols = ['Age', 'Fare']\n",
    "cat_cols = X.columns.drop(num_cols)\n",
    "\n",
    "cat_cols = (grid\n",
    "            .best_estimator_\n",
    "            .named_steps['preprocessor']\n",
    "            .named_transformers_['ohc']\n",
    "            .get_feature_names(cat_cols)\n",
    "            .tolist()\n",
    "           )\n",
    "\n",
    "coefficients = grid.best_estimator_.named_steps['gbc'].feature_importances_\n",
    "index = num_cols + cat_cols\n",
    "\n",
    "feature_importances = pd.Series(coefficients, index=index).sort_values(ascending=False)\n",
    "\n",
    "ax = feature_importances.plot(kind='bar', figsize=(10, 6))\n",
    "ax.set(ylabel='Relative Importance', xlabel='Feature');"
   ]
  },
  {
   "cell_type": "code",
   "execution_count": 26,
   "id": "eaa8d242",
   "metadata": {},
   "outputs": [
    {
     "name": "stdout",
     "output_type": "stream",
     "text": [
      "              precision    recall  f1-score   support\n",
      "\n",
      "           0       0.83      0.81      0.82       113\n",
      "           1       0.68      0.71      0.70        66\n",
      "\n",
      "    accuracy                           0.77       179\n",
      "   macro avg       0.75      0.76      0.76       179\n",
      "weighted avg       0.77      0.77      0.77       179\n",
      "\n"
     ]
    },
    {
     "data": {
      "text/html": [
       "<div>\n",
       "<style scoped>\n",
       "    .dataframe tbody tr th:only-of-type {\n",
       "        vertical-align: middle;\n",
       "    }\n",
       "\n",
       "    .dataframe tbody tr th {\n",
       "        vertical-align: top;\n",
       "    }\n",
       "\n",
       "    .dataframe thead th {\n",
       "        text-align: right;\n",
       "    }\n",
       "</style>\n",
       "<table border=\"1\" class=\"dataframe\">\n",
       "  <thead>\n",
       "    <tr style=\"text-align: right;\">\n",
       "      <th></th>\n",
       "      <th>accuracy</th>\n",
       "      <th>precision</th>\n",
       "      <th>recall</th>\n",
       "      <th>f1</th>\n",
       "      <th>roc_auc</th>\n",
       "    </tr>\n",
       "  </thead>\n",
       "  <tbody>\n",
       "    <tr>\n",
       "      <th>0</th>\n",
       "      <td>0.77095</td>\n",
       "      <td>0.712121</td>\n",
       "      <td>0.681159</td>\n",
       "      <td>0.696296</td>\n",
       "      <td>0.83307</td>\n",
       "    </tr>\n",
       "  </tbody>\n",
       "</table>\n",
       "</div>"
      ],
      "text/plain": [
       "   accuracy  precision    recall        f1  roc_auc\n",
       "0   0.77095   0.712121  0.681159  0.696296  0.83307"
      ]
     },
     "metadata": {},
     "output_type": "display_data"
    }
   ],
   "source": [
    "from sklearn.model_selection import StratifiedShuffleSplit\n",
    "from sklearn.metrics import classification_report, precision_score, accuracy_score, recall_score, f1_score, roc_auc_score\n",
    "\n",
    "strat_shuff_split = StratifiedShuffleSplit(n_splits=1, test_size=0.2, random_state=42)\n",
    "\n",
    "train_idx, test_idx = next(strat_shuff_split.split(X, y))\n",
    "\n",
    "X_train = X.loc[train_idx]\n",
    "y_train = y.loc[train_idx]\n",
    "\n",
    "X_test = X.loc[test_idx]\n",
    "y_test = y.loc[test_idx]\n",
    "\n",
    "grid.fit(X_train, y_train)\n",
    "\n",
    "y_pred = grid.predict(X_test)\n",
    "y_prob = grid.predict_proba(X_test)\n",
    "\n",
    "print(classification_report(y_pred, y_test))\n",
    "\n",
    "score_df = pd.DataFrame({'accuracy': accuracy_score(y_test, y_pred),\n",
    "                        'precision': precision_score(y_test, y_pred),\n",
    "                        'recall': recall_score(y_test, y_pred),\n",
    "                        'f1': f1_score(y_test, y_pred),\n",
    "                        'roc_auc': roc_auc_score(y_test, y_prob[:, 1])},\n",
    "                       index=pd.Index([0]))\n",
    "\n",
    "display(score_df)"
   ]
  },
  {
   "cell_type": "code",
   "execution_count": 27,
   "id": "d5bca4ef",
   "metadata": {},
   "outputs": [
    {
     "data": {
      "image/png": "[encoded data removed]",
      "text/plain": [
       "<Figure size 648x576 with 2 Axes>"
      ]
     },
     "metadata": {
      "needs_background": "light"
     },
     "output_type": "display_data"
    }
   ],
   "source": [
    "from sklearn.metrics import confusion_matrix\n",
    "\n",
    "cm = confusion_matrix(y_pred, y_test)\n",
    "fig, ax = plt.subplots(figsize=(9, 8))\n",
    "ax = sns.heatmap(cm, annot=True, fmt='d', cmap=colors)\n",
    "\n",
    "labels = ['Not survived', 'Survived']\n",
    "ax.set(xticklabels=labels, yticklabels=labels,\n",
    "      xlabel='Prediction', ylabel='Ground Truth');"
   ]
  },
  {
   "cell_type": "code",
   "execution_count": 28,
   "id": "c2c347ae",
   "metadata": {
    "scrolled": false
   },
   "outputs": [
    {
     "data": {
      "image/png": "[encoded data removed]",
      "text/plain": [
       "<Figure size 1152x576 with 2 Axes>"
      ]
     },
     "metadata": {
      "needs_background": "light"
     },
     "output_type": "display_data"
    }
   ],
   "source": [
    "from sklearn.metrics import roc_curve, precision_recall_curve\n",
    "\n",
    "sns.set_context('talk')\n",
    "\n",
    "fig, axList = plt.subplots(ncols=2, figsize=(16, 8))\n",
    "\n",
    "ax = axList[0]\n",
    "\n",
    "fpr, tpr, thresholds = roc_curve(y_test, y_prob[:, 1])\n",
    "\n",
    "ax.plot(fpr, tpr, color=colors[0], linewidth=5)\n",
    "# Customary to draw a diagonal line in ROC plots\n",
    "ax.plot([0, 1], [0, 1], ls='--', color='black', lw=.3)\n",
    "ax.set(xlabel='False Positive Rate',\n",
    "      ylabel='True Positive Rate',\n",
    "      xlim=[-.01, 1.01], ylim=[-.01, 1.01],\n",
    "      title='ROC curve')\n",
    "ax.grid(True)\n",
    "\n",
    "ax = axList[1]\n",
    "\n",
    "precision, recall, _ = precision_recall_curve(y_test, y_prob[:, 1])\n",
    "ax.plot(recall, precision, color=colors[1], linewidth=5)\n",
    "ax.set(xlabel='Recall', ylabel='Precision',\n",
    "      xlim=[-.01, 1.01], ylim=[-.01, 1.01],\n",
    "      title='Precision-Recall curve')\n",
    "ax.grid(True)\n",
    "\n",
    "plt.tight_layout()"
   ]
  },
  {
   "cell_type": "markdown",
   "id": "81757f36",
   "metadata": {},
   "source": [
    "## Recommended final model\n",
    "\n",
    "As can be seen from the cross validation results above, in terms of ROC AUC score, gradient boosting scores the highest at 0.87. Moreover, it admits an interpretation of its prediction via the feature importances. Therefore, the gradient boosting classification is recommended as the final model.\n",
    "\n",
    "## Key findings and insights\n",
    "\n",
    "Based on the feature importances from the gradient boosting classification model, it is found that the following features contribute the most to the survival of a passenger (ranked in descending order):\n",
    "- Sex\n",
    "- Fare\n",
    "- Age.\n",
    "\n",
    "Furthermore, from the logistic regression model, it appears that Sex being male and Age contribute negatively to the survival, while Fare contributes positively to the survival.\n",
    "This makes sense partially, as according to the [wikipedia page](https://en.wikipedia.org/wiki/Titanic), during the tragic accident, females and children were given priority to the lifeboats.\n",
    "However, that the fare of the tickets should influence the survival reflects the inequality between different classes during that time.\n",
    "\n",
    "## Suggestions for next steps\n",
    "\n",
    "As this is an imbalanced dataset, attempts of balancing it with SMOTE were made.\n",
    "However, it seems that in the support vector machine model, we are slightly better off without using SMOTE but rather just by setting class_weight='balanced' in SVC.\n",
    "Similarly in the tree-based methods, we achieved slightly better performance without balancing the data.\n",
    "It remains to be understood why this is the case.\n",
    "One possibility is that SMOTE is probably not the best choice to resample the data and we should try other ways; we will revisit this later."
   ]
  }
 ],
 "metadata": {
  "kernelspec": {
   "display_name": "Python 3 (ipykernel)",
   "language": "python",
   "name": "python3"
  },
  "language_info": {
   "codemirror_mode": {
    "name": "ipython",
    "version": 3
   },
   "file_extension": ".py",
   "mimetype": "text/x-python",
   "name": "python",
   "nbconvert_exporter": "python",
   "pygments_lexer": "ipython3",
   "version": "3.8.5"
  }
 },
 "nbformat": 4,
 "nbformat_minor": 5
}
